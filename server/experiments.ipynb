{
 "cells": [
  {
   "cell_type": "code",
   "execution_count": 1,
   "source": [
    "import market_data\r\n",
    "\r\n",
    "data = market_data.get_daily_data_from_tickers(['AAPL', 'NVDA'], '2021-07-01', '2021-07-22') # pd dataframe"
   ],
   "outputs": [
    {
     "output_type": "stream",
     "name": "stdout",
     "text": [
      "[*********************100%***********************]  2 of 2 completed\n"
     ]
    }
   ],
   "metadata": {}
  },
  {
   "cell_type": "code",
   "execution_count": 2,
   "source": [
    "data.head()"
   ],
   "outputs": [
    {
     "output_type": "execute_result",
     "data": {
      "text/plain": [
       "                  AAPL                                                  \\\n",
       "                  Open        High         Low       Close   Adj Close   \n",
       "Date                                                                     \n",
       "2021-06-30  136.169998  137.410004  135.869995  136.960007  136.960007   \n",
       "2021-07-01  136.600006  137.330002  135.759995  137.270004  137.270004   \n",
       "2021-07-02  137.899994  140.000000  137.750000  139.960007  139.960007   \n",
       "2021-07-06  140.070007  143.149994  140.070007  142.020004  142.020004   \n",
       "2021-07-07  143.539993  144.889999  142.660004  144.570007  144.570007   \n",
       "\n",
       "                             NVDA                                      \\\n",
       "               Volume        Open        High         Low       Close   \n",
       "Date                                                                    \n",
       "2021-06-30   63261400  199.992493  201.625000  198.637497  200.024994   \n",
       "2021-07-01   52485800  201.250000  204.559998  200.190002  202.119995   \n",
       "2021-07-02   78852600  204.402496  205.052505  202.877502  204.869995   \n",
       "2021-07-06  108181800  207.375000  208.419998  203.502502  206.985001   \n",
       "2021-07-07  104911600  208.535004  208.750000  203.320007  203.717499   \n",
       "\n",
       "                                  \n",
       "             Adj Close    Volume  \n",
       "Date                              \n",
       "2021-06-30  200.024994  32656800  \n",
       "2021-07-01  202.119995  48013600  \n",
       "2021-07-02  204.869995  34276400  \n",
       "2021-07-06  206.985001  44670800  \n",
       "2021-07-07  203.717499  41842800  "
      ],
      "text/html": [
       "<div>\n",
       "<style scoped>\n",
       "    .dataframe tbody tr th:only-of-type {\n",
       "        vertical-align: middle;\n",
       "    }\n",
       "\n",
       "    .dataframe tbody tr th {\n",
       "        vertical-align: top;\n",
       "    }\n",
       "\n",
       "    .dataframe thead tr th {\n",
       "        text-align: left;\n",
       "    }\n",
       "\n",
       "    .dataframe thead tr:last-of-type th {\n",
       "        text-align: right;\n",
       "    }\n",
       "</style>\n",
       "<table border=\"1\" class=\"dataframe\">\n",
       "  <thead>\n",
       "    <tr>\n",
       "      <th></th>\n",
       "      <th colspan=\"6\" halign=\"left\">AAPL</th>\n",
       "      <th colspan=\"6\" halign=\"left\">NVDA</th>\n",
       "    </tr>\n",
       "    <tr>\n",
       "      <th></th>\n",
       "      <th>Open</th>\n",
       "      <th>High</th>\n",
       "      <th>Low</th>\n",
       "      <th>Close</th>\n",
       "      <th>Adj Close</th>\n",
       "      <th>Volume</th>\n",
       "      <th>Open</th>\n",
       "      <th>High</th>\n",
       "      <th>Low</th>\n",
       "      <th>Close</th>\n",
       "      <th>Adj Close</th>\n",
       "      <th>Volume</th>\n",
       "    </tr>\n",
       "    <tr>\n",
       "      <th>Date</th>\n",
       "      <th></th>\n",
       "      <th></th>\n",
       "      <th></th>\n",
       "      <th></th>\n",
       "      <th></th>\n",
       "      <th></th>\n",
       "      <th></th>\n",
       "      <th></th>\n",
       "      <th></th>\n",
       "      <th></th>\n",
       "      <th></th>\n",
       "      <th></th>\n",
       "    </tr>\n",
       "  </thead>\n",
       "  <tbody>\n",
       "    <tr>\n",
       "      <th>2021-06-30</th>\n",
       "      <td>136.169998</td>\n",
       "      <td>137.410004</td>\n",
       "      <td>135.869995</td>\n",
       "      <td>136.960007</td>\n",
       "      <td>136.960007</td>\n",
       "      <td>63261400</td>\n",
       "      <td>199.992493</td>\n",
       "      <td>201.625000</td>\n",
       "      <td>198.637497</td>\n",
       "      <td>200.024994</td>\n",
       "      <td>200.024994</td>\n",
       "      <td>32656800</td>\n",
       "    </tr>\n",
       "    <tr>\n",
       "      <th>2021-07-01</th>\n",
       "      <td>136.600006</td>\n",
       "      <td>137.330002</td>\n",
       "      <td>135.759995</td>\n",
       "      <td>137.270004</td>\n",
       "      <td>137.270004</td>\n",
       "      <td>52485800</td>\n",
       "      <td>201.250000</td>\n",
       "      <td>204.559998</td>\n",
       "      <td>200.190002</td>\n",
       "      <td>202.119995</td>\n",
       "      <td>202.119995</td>\n",
       "      <td>48013600</td>\n",
       "    </tr>\n",
       "    <tr>\n",
       "      <th>2021-07-02</th>\n",
       "      <td>137.899994</td>\n",
       "      <td>140.000000</td>\n",
       "      <td>137.750000</td>\n",
       "      <td>139.960007</td>\n",
       "      <td>139.960007</td>\n",
       "      <td>78852600</td>\n",
       "      <td>204.402496</td>\n",
       "      <td>205.052505</td>\n",
       "      <td>202.877502</td>\n",
       "      <td>204.869995</td>\n",
       "      <td>204.869995</td>\n",
       "      <td>34276400</td>\n",
       "    </tr>\n",
       "    <tr>\n",
       "      <th>2021-07-06</th>\n",
       "      <td>140.070007</td>\n",
       "      <td>143.149994</td>\n",
       "      <td>140.070007</td>\n",
       "      <td>142.020004</td>\n",
       "      <td>142.020004</td>\n",
       "      <td>108181800</td>\n",
       "      <td>207.375000</td>\n",
       "      <td>208.419998</td>\n",
       "      <td>203.502502</td>\n",
       "      <td>206.985001</td>\n",
       "      <td>206.985001</td>\n",
       "      <td>44670800</td>\n",
       "    </tr>\n",
       "    <tr>\n",
       "      <th>2021-07-07</th>\n",
       "      <td>143.539993</td>\n",
       "      <td>144.889999</td>\n",
       "      <td>142.660004</td>\n",
       "      <td>144.570007</td>\n",
       "      <td>144.570007</td>\n",
       "      <td>104911600</td>\n",
       "      <td>208.535004</td>\n",
       "      <td>208.750000</td>\n",
       "      <td>203.320007</td>\n",
       "      <td>203.717499</td>\n",
       "      <td>203.717499</td>\n",
       "      <td>41842800</td>\n",
       "    </tr>\n",
       "  </tbody>\n",
       "</table>\n",
       "</div>"
      ]
     },
     "metadata": {},
     "execution_count": 2
    }
   ],
   "metadata": {}
  },
  {
   "cell_type": "code",
   "execution_count": 10,
   "source": [
    "data.dtypes"
   ],
   "outputs": [
    {
     "output_type": "execute_result",
     "data": {
      "text/plain": [
       "AAPL  Open         float64\n",
       "      High         float64\n",
       "      Low          float64\n",
       "      Close        float64\n",
       "      Adj Close    float64\n",
       "      Volume         int64\n",
       "NVDA  Open         float64\n",
       "      High         float64\n",
       "      Low          float64\n",
       "      Close        float64\n",
       "      Adj Close    float64\n",
       "      Volume         int64\n",
       "dtype: object"
      ]
     },
     "metadata": {},
     "execution_count": 10
    }
   ],
   "metadata": {}
  },
  {
   "cell_type": "code",
   "execution_count": 1,
   "source": [
    "from data_management import DataManager\r\n",
    "from datetime import datetime\r\n",
    "\r\n",
    "dm = DataManager()\r\n",
    "dm.add_user('snigelnmjau', datetime.today(), 'Patience wins in the long run')\r\n",
    "dm.add_to_portfolio('snigelnmjau', ('AMD', 'GME'), (100, 1000))\r\n"
   ],
   "outputs": [
    {
     "output_type": "stream",
     "name": "stdout",
     "text": [
      "localhost postgres Hiimgosu1 tutorial\n",
      "ERROR:  duplicate key value violates unique constraint \"investors_pkey\"\n",
      "DETAIL:  Key (user_name)=(snigelnmjau) already exists.\n",
      "\n"
     ]
    },
    {
     "output_type": "stream",
     "name": "stderr",
     "text": [
      "100%|██████████| 2/2 [00:00<00:00, 101.05it/s]"
     ]
    },
    {
     "output_type": "stream",
     "name": "stdout",
     "text": [
      "ERROR:  insert or update on table \"portfolios\" violates foreign key constraint \"portfolios_user_name_fkey\"\n",
      "DETAIL:  Key (user_name)=(snigeln_mjau) is not present in table \"investors\".\n",
      "\n",
      "ERROR:  current transaction is aborted, commands ignored until end of transaction block\n",
      "\n"
     ]
    },
    {
     "output_type": "stream",
     "name": "stderr",
     "text": [
      "\n"
     ]
    }
   ],
   "metadata": {}
  },
  {
   "cell_type": "code",
   "execution_count": 6,
   "source": [
    "from data_management import DataManager\r\n",
    "\r\n",
    "dm = DataManager()\r\n",
    "\r\n",
    "dm.add_ticker('GOOGL', 'Google')"
   ],
   "outputs": [
    {
     "output_type": "stream",
     "name": "stdout",
     "text": [
      "localhost postgres Hiimgosu1 tutorial\n",
      "[*********************100%***********************]  1 of 1 completed\n",
      "                Open      High       Low     Close  Adj Close     Volume\n",
      "Date                                                                    \n",
      "1999-12-31  0.901228  0.918527  0.888393  0.917969   0.789364  163811200\n",
      "2000-01-03  0.936384  1.004464  0.907924  0.999442   0.859423  535796800\n",
      "2000-01-04  0.966518  0.987723  0.903460  0.915179   0.786965  512377600\n",
      "2000-01-05  0.926339  0.987165  0.919643  0.928571   0.798481  778321600\n",
      "2000-01-06  0.947545  0.955357  0.848214  0.848214   0.729382  767972800\n"
     ]
    },
    {
     "output_type": "stream",
     "name": "stderr",
     "text": [
      "100%|██████████| 5425/5425 [00:05<00:00, 1058.15it/s]\n"
     ]
    }
   ],
   "metadata": {}
  }
 ],
 "metadata": {
  "orig_nbformat": 4,
  "language_info": {
   "name": "python",
   "version": "3.9.5",
   "mimetype": "text/x-python",
   "codemirror_mode": {
    "name": "ipython",
    "version": 3
   },
   "pygments_lexer": "ipython3",
   "nbconvert_exporter": "python",
   "file_extension": ".py"
  },
  "kernelspec": {
   "name": "python3",
   "display_name": "Python 3.9.5 64-bit ('venv': venv)"
  },
  "interpreter": {
   "hash": "5c06e51f21c5fd23a3b6bf03ed80a14e999fee5c55f2b8d4fb5401b529170fb3"
  }
 },
 "nbformat": 4,
 "nbformat_minor": 2
}