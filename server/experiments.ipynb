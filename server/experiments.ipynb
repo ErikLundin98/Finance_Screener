{
 "cells": [
  {
   "cell_type": "code",
   "execution_count": 1,
   "source": [
    "from server_utils import market_data\r\n",
    "\r\n",
    "data = market_data.get_daily_data_from_tickers(['AAPL', 'NVDA'], '2021-07-01', '2021-07-22') # pd dataframe"
   ],
   "outputs": [
    {
     "output_type": "stream",
     "name": "stdout",
     "text": [
      "[*********************100%***********************]  2 of 2 completed\n"
     ]
    }
   ],
   "metadata": {}
  },
  {
   "cell_type": "code",
   "execution_count": 2,
   "source": [
    "data.head()"
   ],
   "outputs": [
    {
     "output_type": "execute_result",
     "data": {
      "text/plain": [
       "                  AAPL                                                  \\\n",
       "                  Open        High         Low       Close   Adj Close   \n",
       "Date                                                                     \n",
       "2021-06-30  136.169998  137.410004  135.869995  136.960007  136.960007   \n",
       "2021-07-01  136.600006  137.330002  135.759995  137.270004  137.270004   \n",
       "2021-07-02  137.899994  140.000000  137.750000  139.960007  139.960007   \n",
       "2021-07-06  140.070007  143.149994  140.070007  142.020004  142.020004   \n",
       "2021-07-07  143.539993  144.889999  142.660004  144.570007  144.570007   \n",
       "\n",
       "                             NVDA                                      \\\n",
       "               Volume        Open        High         Low       Close   \n",
       "Date                                                                    \n",
       "2021-06-30   63261400  199.992493  201.625000  198.637497  200.024994   \n",
       "2021-07-01   52485800  201.250000  204.559998  200.190002  202.119995   \n",
       "2021-07-02   78852600  204.402496  205.052505  202.877502  204.869995   \n",
       "2021-07-06  108181800  207.375000  208.419998  203.502502  206.985001   \n",
       "2021-07-07  104911600  208.535004  208.750000  203.320007  203.717499   \n",
       "\n",
       "                                  \n",
       "             Adj Close    Volume  \n",
       "Date                              \n",
       "2021-06-30  200.024994  32656800  \n",
       "2021-07-01  202.119995  48013600  \n",
       "2021-07-02  204.869995  34276400  \n",
       "2021-07-06  206.985001  44670800  \n",
       "2021-07-07  203.717499  41842800  "
      ],
      "text/html": [
       "<div>\n",
       "<style scoped>\n",
       "    .dataframe tbody tr th:only-of-type {\n",
       "        vertical-align: middle;\n",
       "    }\n",
       "\n",
       "    .dataframe tbody tr th {\n",
       "        vertical-align: top;\n",
       "    }\n",
       "\n",
       "    .dataframe thead tr th {\n",
       "        text-align: left;\n",
       "    }\n",
       "\n",
       "    .dataframe thead tr:last-of-type th {\n",
       "        text-align: right;\n",
       "    }\n",
       "</style>\n",
       "<table border=\"1\" class=\"dataframe\">\n",
       "  <thead>\n",
       "    <tr>\n",
       "      <th></th>\n",
       "      <th colspan=\"6\" halign=\"left\">AAPL</th>\n",
       "      <th colspan=\"6\" halign=\"left\">NVDA</th>\n",
       "    </tr>\n",
       "    <tr>\n",
       "      <th></th>\n",
       "      <th>Open</th>\n",
       "      <th>High</th>\n",
       "      <th>Low</th>\n",
       "      <th>Close</th>\n",
       "      <th>Adj Close</th>\n",
       "      <th>Volume</th>\n",
       "      <th>Open</th>\n",
       "      <th>High</th>\n",
       "      <th>Low</th>\n",
       "      <th>Close</th>\n",
       "      <th>Adj Close</th>\n",
       "      <th>Volume</th>\n",
       "    </tr>\n",
       "    <tr>\n",
       "      <th>Date</th>\n",
       "      <th></th>\n",
       "      <th></th>\n",
       "      <th></th>\n",
       "      <th></th>\n",
       "      <th></th>\n",
       "      <th></th>\n",
       "      <th></th>\n",
       "      <th></th>\n",
       "      <th></th>\n",
       "      <th></th>\n",
       "      <th></th>\n",
       "      <th></th>\n",
       "    </tr>\n",
       "  </thead>\n",
       "  <tbody>\n",
       "    <tr>\n",
       "      <th>2021-06-30</th>\n",
       "      <td>136.169998</td>\n",
       "      <td>137.410004</td>\n",
       "      <td>135.869995</td>\n",
       "      <td>136.960007</td>\n",
       "      <td>136.960007</td>\n",
       "      <td>63261400</td>\n",
       "      <td>199.992493</td>\n",
       "      <td>201.625000</td>\n",
       "      <td>198.637497</td>\n",
       "      <td>200.024994</td>\n",
       "      <td>200.024994</td>\n",
       "      <td>32656800</td>\n",
       "    </tr>\n",
       "    <tr>\n",
       "      <th>2021-07-01</th>\n",
       "      <td>136.600006</td>\n",
       "      <td>137.330002</td>\n",
       "      <td>135.759995</td>\n",
       "      <td>137.270004</td>\n",
       "      <td>137.270004</td>\n",
       "      <td>52485800</td>\n",
       "      <td>201.250000</td>\n",
       "      <td>204.559998</td>\n",
       "      <td>200.190002</td>\n",
       "      <td>202.119995</td>\n",
       "      <td>202.119995</td>\n",
       "      <td>48013600</td>\n",
       "    </tr>\n",
       "    <tr>\n",
       "      <th>2021-07-02</th>\n",
       "      <td>137.899994</td>\n",
       "      <td>140.000000</td>\n",
       "      <td>137.750000</td>\n",
       "      <td>139.960007</td>\n",
       "      <td>139.960007</td>\n",
       "      <td>78852600</td>\n",
       "      <td>204.402496</td>\n",
       "      <td>205.052505</td>\n",
       "      <td>202.877502</td>\n",
       "      <td>204.869995</td>\n",
       "      <td>204.869995</td>\n",
       "      <td>34276400</td>\n",
       "    </tr>\n",
       "    <tr>\n",
       "      <th>2021-07-06</th>\n",
       "      <td>140.070007</td>\n",
       "      <td>143.149994</td>\n",
       "      <td>140.070007</td>\n",
       "      <td>142.020004</td>\n",
       "      <td>142.020004</td>\n",
       "      <td>108181800</td>\n",
       "      <td>207.375000</td>\n",
       "      <td>208.419998</td>\n",
       "      <td>203.502502</td>\n",
       "      <td>206.985001</td>\n",
       "      <td>206.985001</td>\n",
       "      <td>44670800</td>\n",
       "    </tr>\n",
       "    <tr>\n",
       "      <th>2021-07-07</th>\n",
       "      <td>143.539993</td>\n",
       "      <td>144.889999</td>\n",
       "      <td>142.660004</td>\n",
       "      <td>144.570007</td>\n",
       "      <td>144.570007</td>\n",
       "      <td>104911600</td>\n",
       "      <td>208.535004</td>\n",
       "      <td>208.750000</td>\n",
       "      <td>203.320007</td>\n",
       "      <td>203.717499</td>\n",
       "      <td>203.717499</td>\n",
       "      <td>41842800</td>\n",
       "    </tr>\n",
       "  </tbody>\n",
       "</table>\n",
       "</div>"
      ]
     },
     "metadata": {},
     "execution_count": 2
    }
   ],
   "metadata": {}
  },
  {
   "cell_type": "code",
   "execution_count": 10,
   "source": [
    "data.dtypes"
   ],
   "outputs": [
    {
     "output_type": "execute_result",
     "data": {
      "text/plain": [
       "AAPL  Open         float64\n",
       "      High         float64\n",
       "      Low          float64\n",
       "      Close        float64\n",
       "      Adj Close    float64\n",
       "      Volume         int64\n",
       "NVDA  Open         float64\n",
       "      High         float64\n",
       "      Low          float64\n",
       "      Close        float64\n",
       "      Adj Close    float64\n",
       "      Volume         int64\n",
       "dtype: object"
      ]
     },
     "metadata": {},
     "execution_count": 10
    }
   ],
   "metadata": {}
  },
  {
   "cell_type": "code",
   "execution_count": 1,
   "source": [
    "from data_management import DataManager\r\n",
    "from datetime import datetime\r\n",
    "\r\n",
    "dm = DataManager()\r\n",
    "dm.add_user('snigelnmjau', datetime.today(), 'Patience wins in the long run')\r\n",
    "dm.add_to_portfolio('snigelnmjau', ('AMD', 'GME'), (100, 1000))\r\n"
   ],
   "outputs": [
    {
     "output_type": "stream",
     "name": "stdout",
     "text": [
      "localhost postgres Hiimgosu1 tutorial\n",
      "ERROR:  duplicate key value violates unique constraint \"investors_pkey\"\n",
      "DETAIL:  Key (user_name)=(snigelnmjau) already exists.\n",
      "\n"
     ]
    },
    {
     "output_type": "stream",
     "name": "stderr",
     "text": [
      "100%|██████████| 2/2 [00:00<00:00, 101.05it/s]"
     ]
    },
    {
     "output_type": "stream",
     "name": "stdout",
     "text": [
      "ERROR:  insert or update on table \"portfolios\" violates foreign key constraint \"portfolios_user_name_fkey\"\n",
      "DETAIL:  Key (user_name)=(snigeln_mjau) is not present in table \"investors\".\n",
      "\n",
      "ERROR:  current transaction is aborted, commands ignored until end of transaction block\n",
      "\n"
     ]
    },
    {
     "output_type": "stream",
     "name": "stderr",
     "text": [
      "\n"
     ]
    }
   ],
   "metadata": {}
  },
  {
   "cell_type": "code",
   "execution_count": 6,
   "source": [
    "from server_utils.data_management import DataManager\r\n",
    "\r\n",
    "dm = DataManager()\r\n",
    "\r\n",
    "dm.add_ticker('GOOGL', 'Google')"
   ],
   "outputs": [
    {
     "output_type": "stream",
     "name": "stdout",
     "text": [
      "localhost postgres Hiimgosu1 tutorial\n",
      "[*********************100%***********************]  1 of 1 completed\n",
      "                Open      High       Low     Close  Adj Close     Volume\n",
      "Date                                                                    \n",
      "1999-12-31  0.901228  0.918527  0.888393  0.917969   0.789364  163811200\n",
      "2000-01-03  0.936384  1.004464  0.907924  0.999442   0.859423  535796800\n",
      "2000-01-04  0.966518  0.987723  0.903460  0.915179   0.786965  512377600\n",
      "2000-01-05  0.926339  0.987165  0.919643  0.928571   0.798481  778321600\n",
      "2000-01-06  0.947545  0.955357  0.848214  0.848214   0.729382  767972800\n"
     ]
    },
    {
     "output_type": "stream",
     "name": "stderr",
     "text": [
      "100%|██████████| 5425/5425 [00:05<00:00, 1058.15it/s]\n"
     ]
    }
   ],
   "metadata": {}
  },
  {
   "cell_type": "code",
   "execution_count": 1,
   "source": [
    "# add missing data\r\n",
    "from server_utils import data_management\r\n",
    "\r\n",
    "dm = data_management.DataManager()\r\n",
    "\r\n",
    "dm.add_missing_daily_data()\r\n",
    "\r\n",
    "dm.__del__()"
   ],
   "outputs": [
    {
     "output_type": "stream",
     "name": "stdout",
     "text": [
      "localhost postgres Hiimgosu1 tutorial\n",
      "2021-07-26 2021-07-29\n",
      "[*********************100%***********************]  8 of 8 completed"
     ]
    },
    {
     "output_type": "stream",
     "name": "stderr",
     "text": [
      "c:\\Users\\cerik\\Prog\\Finance_Screener\\venv\\lib\\site-packages\\pandas\\core\\frame.py:3607: SettingWithCopyWarning: \n",
      "A value is trying to be set on a copy of a slice from a DataFrame.\n",
      "Try using .loc[row_indexer,col_indexer] = value instead\n",
      "\n",
      "See the caveats in the documentation: https://pandas.pydata.org/pandas-docs/stable/user_guide/indexing.html#returning-a-view-versus-a-copy\n",
      "  self._set_item(key, value)\n"
     ]
    },
    {
     "output_type": "stream",
     "name": "stdout",
     "text": [
      "\n",
      "                  GOOGL                                                     \\\n",
      "                   Open        High          Low        Close    Adj Close   \n",
      "Date                                                                         \n",
      "2021-07-26  2666.570068  2684.73999  2646.030029  2680.699951  2680.699951   \n",
      "2021-07-27  2685.010010  2687.97998  2602.570068  2631.439941  2631.439941   \n",
      "\n",
      "                            GME                                      ...  \\\n",
      "             Volume        Open        High         Low       Close  ...   \n",
      "Date                                                                 ...   \n",
      "2021-07-26  1526300  180.360001  186.039993  178.759995  183.940002  ...   \n",
      "2021-07-27  1657112  183.000000  185.000000  176.660095  179.589996  ...   \n",
      "\n",
      "           NAS.OL                                   AAPL              \\\n",
      "              Low   Close Adj Close   Volume        Open        High   \n",
      "Date                                                                   \n",
      "2021-07-26  10.33  10.402    10.402  3355512  148.270004  149.830002   \n",
      "2021-07-27  10.40  10.450    10.450  2703886  149.119995  149.199997   \n",
      "\n",
      "                                                          \n",
      "                   Low       Close   Adj Close    Volume  \n",
      "Date                                                      \n",
      "2021-07-26  147.699997  148.990005  148.990005  72269700  \n",
      "2021-07-27  145.550003  146.585999  146.585999  75588956  \n",
      "\n",
      "[2 rows x 48 columns]\n"
     ]
    },
    {
     "output_type": "stream",
     "name": "stderr",
     "text": [
      "  0%|          | 0/16 [00:00<?, ?it/s]"
     ]
    },
    {
     "output_type": "stream",
     "name": "stdout",
     "text": [
      "[datetime.date(2021, 7, 26) 148.27000427246094 149.8300018310547\n",
      " 147.6999969482422 148.99000549316406 148.99000549316406 72269700 'AAPL']\n",
      "[datetime.date(2021, 7, 26) 92.01000213623047 92.75 91.12000274658203\n",
      " 91.81999969482422 91.81999969482422 27531300 'AMD']\n"
     ]
    },
    {
     "output_type": "stream",
     "name": "stderr",
     "text": [
      "100%|██████████| 16/16 [00:00<00:00, 921.75it/s]"
     ]
    },
    {
     "output_type": "stream",
     "name": "stdout",
     "text": [
      "[datetime.date(2021, 7, 26) 180.36000061035156 186.0399932861328\n",
      " 178.75999450683594 183.94000244140625 183.94000244140625 1255400 'GME']\n",
      "[datetime.date(2021, 7, 26) 2666.570068359375 2684.739990234375\n",
      " 2646.030029296875 2680.699951171875 2680.699951171875 1526300 'GOOGL']\n",
      "[datetime.date(2021, 7, 26) 216.1999969482422 216.39999389648438\n",
      " 214.39999389648438 215.10000610351562 215.10000610351562 2400227\n",
      " 'INVE-B.ST']\n",
      "[datetime.date(2021, 7, 26) 10.520000457763672 10.682000160217285\n",
      " 10.329999923706055 10.402000427246094 10.402000427246094 3355512 'NAS.OL']\n",
      "[datetime.date(2021, 7, 26) 193.11000061035156 194.4199981689453\n",
      " 189.13999938964844 192.94000244140625 192.94000244140625 20373800 'NVDA']\n",
      "[datetime.date(2021, 7, 26) 208.10000610351562 209.25 207.4499969482422\n",
      " 208.10000610351562 208.10000610351562 2363662 'VOLV-B.ST']\n",
      "[datetime.date(2021, 7, 27) 149.1199951171875 149.1999969482422\n",
      " 145.5500030517578 146.58599853515625 146.58599853515625 75588956 'AAPL']\n",
      "[datetime.date(2021, 7, 27) 92.94000244140625 94.0999984741211\n",
      " 89.0999984741211 91.43000030517578 91.43000030517578 57583432 'AMD']\n",
      "[datetime.date(2021, 7, 27) 183.0 185.0 176.66009521484375\n",
      " 179.58999633789062 179.58999633789062 1055455 'GME']\n",
      "[datetime.date(2021, 7, 27) 2685.010009765625 2687.97998046875\n",
      " 2602.570068359375 2631.43994140625 2631.43994140625 1657112 'GOOGL']\n",
      "[datetime.date(2021, 7, 27) 212.60000610351562 214.5 210.0\n",
      " 213.60000610351562 213.60000610351562 3067551 'INVE-B.ST']\n",
      "[datetime.date(2021, 7, 27) 10.402000427246094 10.899999618530273\n",
      " 10.399999618530273 10.449999809265137 10.449999809265137 2703886 'NAS.OL']\n",
      "[datetime.date(2021, 7, 27) 192.64999389648438 196.1999969482422\n",
      " 187.41000366210938 191.625 191.625 20912207 'NVDA']\n",
      "[datetime.date(2021, 7, 27) 207.5 208.0500030517578 204.3000030517578\n",
      " 204.39999389648438 204.39999389648438 2449463 'VOLV-B.ST']\n"
     ]
    },
    {
     "output_type": "stream",
     "name": "stderr",
     "text": [
      "\n"
     ]
    }
   ],
   "metadata": {}
  },
  {
   "cell_type": "code",
   "execution_count": 1,
   "source": [
    "import yfinance as yf\r\n",
    "\r\n",
    "data = yf.download(['INVE-B.st', 'NVDA'], '2021-07-26', '2021-07-28')\r\n",
    "data.head()"
   ],
   "outputs": [
    {
     "output_type": "stream",
     "name": "stdout",
     "text": [
      "[*********************100%***********************]  2 of 2 completed\n"
     ]
    },
    {
     "output_type": "execute_result",
     "data": {
      "text/plain": [
       "             Adj Close                   Close                    High  \\\n",
       "             INVE-B.ST        NVDA   INVE-B.ST        NVDA   INVE-B.ST   \n",
       "Date                                                                     \n",
       "2021-07-26  215.100006  192.940002  215.100006  192.940002  216.399994   \n",
       "2021-07-27  213.600006  191.479996  213.600006  191.479996  214.500000   \n",
       "\n",
       "                               Low                    Open              \\\n",
       "                  NVDA   INVE-B.ST        NVDA   INVE-B.ST        NVDA   \n",
       "Date                                                                     \n",
       "2021-07-26  194.419998  214.399994  189.139999  216.199997  193.110001   \n",
       "2021-07-27  196.199997  210.000000  187.410004  212.600006  192.649994   \n",
       "\n",
       "              Volume            \n",
       "           INVE-B.ST      NVDA  \n",
       "Date                            \n",
       "2021-07-26   2400227  20373800  \n",
       "2021-07-27   3067551  20634527  "
      ],
      "text/html": [
       "<div>\n",
       "<style scoped>\n",
       "    .dataframe tbody tr th:only-of-type {\n",
       "        vertical-align: middle;\n",
       "    }\n",
       "\n",
       "    .dataframe tbody tr th {\n",
       "        vertical-align: top;\n",
       "    }\n",
       "\n",
       "    .dataframe thead tr th {\n",
       "        text-align: left;\n",
       "    }\n",
       "\n",
       "    .dataframe thead tr:last-of-type th {\n",
       "        text-align: right;\n",
       "    }\n",
       "</style>\n",
       "<table border=\"1\" class=\"dataframe\">\n",
       "  <thead>\n",
       "    <tr>\n",
       "      <th></th>\n",
       "      <th colspan=\"2\" halign=\"left\">Adj Close</th>\n",
       "      <th colspan=\"2\" halign=\"left\">Close</th>\n",
       "      <th colspan=\"2\" halign=\"left\">High</th>\n",
       "      <th colspan=\"2\" halign=\"left\">Low</th>\n",
       "      <th colspan=\"2\" halign=\"left\">Open</th>\n",
       "      <th colspan=\"2\" halign=\"left\">Volume</th>\n",
       "    </tr>\n",
       "    <tr>\n",
       "      <th></th>\n",
       "      <th>INVE-B.ST</th>\n",
       "      <th>NVDA</th>\n",
       "      <th>INVE-B.ST</th>\n",
       "      <th>NVDA</th>\n",
       "      <th>INVE-B.ST</th>\n",
       "      <th>NVDA</th>\n",
       "      <th>INVE-B.ST</th>\n",
       "      <th>NVDA</th>\n",
       "      <th>INVE-B.ST</th>\n",
       "      <th>NVDA</th>\n",
       "      <th>INVE-B.ST</th>\n",
       "      <th>NVDA</th>\n",
       "    </tr>\n",
       "    <tr>\n",
       "      <th>Date</th>\n",
       "      <th></th>\n",
       "      <th></th>\n",
       "      <th></th>\n",
       "      <th></th>\n",
       "      <th></th>\n",
       "      <th></th>\n",
       "      <th></th>\n",
       "      <th></th>\n",
       "      <th></th>\n",
       "      <th></th>\n",
       "      <th></th>\n",
       "      <th></th>\n",
       "    </tr>\n",
       "  </thead>\n",
       "  <tbody>\n",
       "    <tr>\n",
       "      <th>2021-07-26</th>\n",
       "      <td>215.100006</td>\n",
       "      <td>192.940002</td>\n",
       "      <td>215.100006</td>\n",
       "      <td>192.940002</td>\n",
       "      <td>216.399994</td>\n",
       "      <td>194.419998</td>\n",
       "      <td>214.399994</td>\n",
       "      <td>189.139999</td>\n",
       "      <td>216.199997</td>\n",
       "      <td>193.110001</td>\n",
       "      <td>2400227</td>\n",
       "      <td>20373800</td>\n",
       "    </tr>\n",
       "    <tr>\n",
       "      <th>2021-07-27</th>\n",
       "      <td>213.600006</td>\n",
       "      <td>191.479996</td>\n",
       "      <td>213.600006</td>\n",
       "      <td>191.479996</td>\n",
       "      <td>214.500000</td>\n",
       "      <td>196.199997</td>\n",
       "      <td>210.000000</td>\n",
       "      <td>187.410004</td>\n",
       "      <td>212.600006</td>\n",
       "      <td>192.649994</td>\n",
       "      <td>3067551</td>\n",
       "      <td>20634527</td>\n",
       "    </tr>\n",
       "  </tbody>\n",
       "</table>\n",
       "</div>"
      ]
     },
     "metadata": {},
     "execution_count": 1
    }
   ],
   "metadata": {}
  },
  {
   "cell_type": "code",
   "execution_count": 2,
   "source": [
    "import yfinance as yf\r\n",
    "\r\n",
    "data = yf.download(['INVE-B.st', 'NVDA'], '2021-07-26', '2021-07-28')\r\n",
    "data.head()"
   ],
   "outputs": [
    {
     "output_type": "stream",
     "name": "stdout",
     "text": [
      "[*********************100%***********************]  2 of 2 completed\n"
     ]
    },
    {
     "output_type": "execute_result",
     "data": {
      "text/plain": [
       "             Adj Close                   Close                    High  \\\n",
       "             INVE-B.ST        NVDA   INVE-B.ST        NVDA   INVE-B.ST   \n",
       "Date                                                                     \n",
       "2021-07-26  215.100006  192.940002  215.100006  192.940002  216.399994   \n",
       "2021-07-27  213.600006  191.529999  213.600006  191.529999  214.500000   \n",
       "\n",
       "                               Low                    Open              \\\n",
       "                  NVDA   INVE-B.ST        NVDA   INVE-B.ST        NVDA   \n",
       "Date                                                                     \n",
       "2021-07-26  194.419998  214.399994  189.139999  216.199997  193.110001   \n",
       "2021-07-27  196.199997  210.000000  187.410004  212.600006  192.649994   \n",
       "\n",
       "              Volume            \n",
       "           INVE-B.ST      NVDA  \n",
       "Date                            \n",
       "2021-07-26   2400227  20373800  \n",
       "2021-07-27   3067551  20707434  "
      ],
      "text/html": [
       "<div>\n",
       "<style scoped>\n",
       "    .dataframe tbody tr th:only-of-type {\n",
       "        vertical-align: middle;\n",
       "    }\n",
       "\n",
       "    .dataframe tbody tr th {\n",
       "        vertical-align: top;\n",
       "    }\n",
       "\n",
       "    .dataframe thead tr th {\n",
       "        text-align: left;\n",
       "    }\n",
       "\n",
       "    .dataframe thead tr:last-of-type th {\n",
       "        text-align: right;\n",
       "    }\n",
       "</style>\n",
       "<table border=\"1\" class=\"dataframe\">\n",
       "  <thead>\n",
       "    <tr>\n",
       "      <th></th>\n",
       "      <th colspan=\"2\" halign=\"left\">Adj Close</th>\n",
       "      <th colspan=\"2\" halign=\"left\">Close</th>\n",
       "      <th colspan=\"2\" halign=\"left\">High</th>\n",
       "      <th colspan=\"2\" halign=\"left\">Low</th>\n",
       "      <th colspan=\"2\" halign=\"left\">Open</th>\n",
       "      <th colspan=\"2\" halign=\"left\">Volume</th>\n",
       "    </tr>\n",
       "    <tr>\n",
       "      <th></th>\n",
       "      <th>INVE-B.ST</th>\n",
       "      <th>NVDA</th>\n",
       "      <th>INVE-B.ST</th>\n",
       "      <th>NVDA</th>\n",
       "      <th>INVE-B.ST</th>\n",
       "      <th>NVDA</th>\n",
       "      <th>INVE-B.ST</th>\n",
       "      <th>NVDA</th>\n",
       "      <th>INVE-B.ST</th>\n",
       "      <th>NVDA</th>\n",
       "      <th>INVE-B.ST</th>\n",
       "      <th>NVDA</th>\n",
       "    </tr>\n",
       "    <tr>\n",
       "      <th>Date</th>\n",
       "      <th></th>\n",
       "      <th></th>\n",
       "      <th></th>\n",
       "      <th></th>\n",
       "      <th></th>\n",
       "      <th></th>\n",
       "      <th></th>\n",
       "      <th></th>\n",
       "      <th></th>\n",
       "      <th></th>\n",
       "      <th></th>\n",
       "      <th></th>\n",
       "    </tr>\n",
       "  </thead>\n",
       "  <tbody>\n",
       "    <tr>\n",
       "      <th>2021-07-26</th>\n",
       "      <td>215.100006</td>\n",
       "      <td>192.940002</td>\n",
       "      <td>215.100006</td>\n",
       "      <td>192.940002</td>\n",
       "      <td>216.399994</td>\n",
       "      <td>194.419998</td>\n",
       "      <td>214.399994</td>\n",
       "      <td>189.139999</td>\n",
       "      <td>216.199997</td>\n",
       "      <td>193.110001</td>\n",
       "      <td>2400227</td>\n",
       "      <td>20373800</td>\n",
       "    </tr>\n",
       "    <tr>\n",
       "      <th>2021-07-27</th>\n",
       "      <td>213.600006</td>\n",
       "      <td>191.529999</td>\n",
       "      <td>213.600006</td>\n",
       "      <td>191.529999</td>\n",
       "      <td>214.500000</td>\n",
       "      <td>196.199997</td>\n",
       "      <td>210.000000</td>\n",
       "      <td>187.410004</td>\n",
       "      <td>212.600006</td>\n",
       "      <td>192.649994</td>\n",
       "      <td>3067551</td>\n",
       "      <td>20707434</td>\n",
       "    </tr>\n",
       "  </tbody>\n",
       "</table>\n",
       "</div>"
      ]
     },
     "metadata": {},
     "execution_count": 2
    }
   ],
   "metadata": {}
  }
 ],
 "metadata": {
  "orig_nbformat": 4,
  "language_info": {
   "name": "python",
   "version": "3.9.6",
   "mimetype": "text/x-python",
   "codemirror_mode": {
    "name": "ipython",
    "version": 3
   },
   "pygments_lexer": "ipython3",
   "nbconvert_exporter": "python",
   "file_extension": ".py"
  },
  "kernelspec": {
   "name": "python3",
   "display_name": "Python 3.9.6 64-bit ('venv': venv)"
  },
  "interpreter": {
   "hash": "16769c4d83748369239cadc08dd7a7cbf321a8ab5d1df55822ab2eabae54544f"
  }
 },
 "nbformat": 4,
 "nbformat_minor": 2
}